{
 "cells": [
  {
   "cell_type": "code",
   "execution_count": null,
   "metadata": {},
   "outputs": [],
   "source": [
    "# Use wget to download files\n",
    "!pip install wget"
   ]
  },
  {
   "cell_type": "code",
   "execution_count": null,
   "metadata": {},
   "outputs": [],
   "source": [
    "import nglview, os, wget"
   ]
  },
  {
   "cell_type": "code",
   "execution_count": null,
   "metadata": {},
   "outputs": [],
   "source": [
    "jupyterRoot=os.getcwd()\n",
    "print(jupyterRoot)"
   ]
  },
  {
   "cell_type": "code",
   "execution_count": null,
   "metadata": {},
   "outputs": [],
   "source": [
    "# Remove file from jupyterRoot if it already exists\n",
    "for filename in ['1hel.pdb']:\n",
    "    if os.path.isfile(os.path.join(jupyterRoot, filename)):\n",
    "        os.remove(os.path.join(jupyterRoot, filename))\n"
   ]
  },
  {
   "cell_type": "code",
   "execution_count": null,
   "metadata": {},
   "outputs": [],
   "source": [
    "# Create a new subdirectory in jupyterRoot\n",
    "newDir = os.path.join(jupyterRoot, 'newTestDir')\n",
    "if not os.path.isdir(newDir):\n",
    "    os.mkdir(newDir)\n",
    "\n",
    "# Move to subdirectory\n",
    "os.chdir(newDir)\n",
    "\n",
    "# Dowload new file here\n",
    "fileUrl='http://www.rcsb.org/pdb/files/1hel.pdb'\n",
    "wget.download(fileUrl, newDir)\n",
    "\n",
    "# Try to view file using add component and absolute path - it fails\n",
    "view1 = nglview.NGLWidget()\n",
    "component1 = view1.add_component(os.path.join(newDir, '1hel.pdb'))\n",
    "view1"
   ]
  },
  {
   "cell_type": "code",
   "execution_count": null,
   "metadata": {},
   "outputs": [],
   "source": [
    "# Try to view file, but using show_structure_file and absolute path - it works\n",
    "view2 = nglview.show_structure_file(os.path.join(newDir, '1hel.pdb'))\n",
    "view2"
   ]
  },
  {
   "cell_type": "code",
   "execution_count": null,
   "metadata": {},
   "outputs": [],
   "source": [
    "# Move back into jupyterRoot\n",
    "os.chdir(jupyterRoot)\n",
    "\n",
    "# Try to view file using relative path from root dir - it works\n",
    "view3 = nglview.NGLWidget()\n",
    "component3 = view3.add_component(os.path.join('newTestDir', '1hel.pdb'))\n",
    "view3"
   ]
  },
  {
   "cell_type": "code",
   "execution_count": null,
   "metadata": {},
   "outputs": [],
   "source": [
    "# Copy file to jupyterRoot\n",
    "wget.download(fileUrl, jupyterRoot)\n",
    "\n",
    "# Try to read from newDir using add_component and absolute path - Works only if file exists in jupyterRoot\n",
    "view3 = nglview.NGLWidget()\n",
    "component3 = view3.add_component(os.path.join(newDir, '1hel.pdb'))\n",
    "view3"
   ]
  }
 ],
 "metadata": {
  "kernelspec": {
   "display_name": "Python 3",
   "language": "python",
   "name": "python3"
  },
  "language_info": {
   "codemirror_mode": {
    "name": "ipython",
    "version": 3
   },
   "file_extension": ".py",
   "mimetype": "text/x-python",
   "name": "python",
   "nbconvert_exporter": "python",
   "pygments_lexer": "ipython3",
   "version": "3.7.3"
  }
 },
 "nbformat": 4,
 "nbformat_minor": 1
}
